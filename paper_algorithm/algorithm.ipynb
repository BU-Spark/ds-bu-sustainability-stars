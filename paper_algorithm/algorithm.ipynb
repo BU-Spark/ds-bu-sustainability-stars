{
 "cells": [
  {
   "cell_type": "code",
   "execution_count": 41,
   "id": "07c06323",
   "metadata": {},
   "outputs": [
    {
     "name": "stdout",
     "output_type": "stream",
     "text": [
      "Columns in the dataset: Index(['Author', 'Title', 'Abstract', 'Year'], dtype='object')\n",
      "Classification complete. Results saved to 'classified_papers.csv'\n"
     ]
    }
   ],
   "source": [
    "import pandas as pd\n",
    "import re\n",
    "\n",
    "# Load the data (adjust the path as needed)\n",
    "data = pd.read_csv('author_papers_2022_2024_part_1.csv')\n",
    "\n",
    "# Check the columns of the dataset\n",
    "print(\"Columns in the dataset:\", data.columns)\n",
    "\n",
    "# Define keywords and weights\n",
    "\n",
    "\n",
    "keywords = {#nouse\n",
    "    'bioremediation': {'weight': 3, 'contexts': ['bioremediation'], 'exceptions': []},\n",
    "    'battery': {'weight': 3, 'contexts': ['battery'], 'exceptions': []},\n",
    "    'energy': {'weight': 3, 'contexts': ['energy'], 'exceptions': []},\n",
    "    'sustainable': {'weight': 3, 'contexts': ['sustainable'], 'exceptions': []},\n",
    "    'climate': {'weight': 3, 'contexts': ['climate'], 'exceptions': []},\n",
    "    'pollutant': {'weight': 2, 'contexts': ['pollutant'], 'exceptions': []},\n",
    "    'material': {'weight': 2, 'contexts': ['material'], 'exceptions': []},\n",
    "    'carbon': {'weight': 3, 'contexts': ['carbon'], 'exceptions': []},\n",
    "    'ecosystem': {'weight': 2, 'contexts': ['ecosystem'], 'exceptions': []},\n",
    "    'aquaculture': {'weight': 2, 'contexts': ['aquaculture'], 'exceptions': []},\n",
    "    'pollution': {'weight': 2, 'contexts': ['pollution'], 'exceptions': []},\n",
    "    'circular': {'weight': 2, 'contexts': ['circular'], 'exceptions': []},\n",
    "    'health': {'weight': 2, 'contexts': ['health'], 'exceptions': []},\n",
    "    'risk': {'weight': 3, 'contexts': ['risk'], 'exceptions': []},\n",
    "    'urban': {'weight': 2, 'contexts': ['urban'], 'exceptions': []},\n",
    "    'biodiversity': {'weight': 3, 'contexts': ['biodiversity'], 'exceptions': []},\n",
    "}\n",
    "\n",
    "keywords = {\n",
    "    'bioremediation': {'weight': 3, 'contexts': ['forests','bioremediation', 'removal of environmental pollutants'], 'exceptions': []},\n",
    "    'battery': {'weight': 3, 'contexts': ['battery applications', 'alternative fuel vehicles', 'renewable energy storage'], 'exceptions': []},\n",
    "    'biosynthesis': {'weight': 2, 'contexts': ['biosynthesis', 'longevity vitamin', 'cancer proliferation inhibition'], 'exceptions': []},\n",
    "    'green materials': {'weight': 3, 'contexts': ['green materials', 'sustainable materials development'], 'exceptions': []},\n",
    "    'climate change': {'weight': 3, 'contexts': ['climate change', 'climate adaptation', 'climate risk'], 'exceptions': []},\n",
    "    'social movements': {'weight': 2, 'contexts': ['social movements', 'influence of social movements', '#Metoo Movement'], 'exceptions': []},\n",
    "    'sustainable development': {'weight': 3, 'contexts': ['sustainable development', 'inclusive international business', 'green recovery'], 'exceptions': []},\n",
    "    'zoonotic pandemics': {'weight': 3, 'contexts': ['prevention of zoonotic pandemics', 'zoonotic disease prevention'], 'exceptions': []},\n",
    "    'land use': {'weight': 2, 'contexts': ['land use changes', 'land cover changes', 'sustainable land management'], 'exceptions': []},\n",
    "    'aquaculture': {'weight': 2, 'contexts': ['cage aquaculture', 'sustainable aquaculture', 'impact on ecosystems'], 'exceptions': []},\n",
    "    'renewable energy': {'weight': 3, 'contexts': ['renewable energy', 'solar energy', 'wind energy', 'alternative energy storage'], 'exceptions': []},\n",
    "    'carbon emissions': {'weight': 3, 'contexts': ['carbon emissions', 'carbon footprint', 'carbon sequestration'], 'exceptions': []},\n",
    "    'urban green space': {'weight': 2, 'contexts': ['urban green space', 'green infrastructure', 'impact on urban temperature'], 'exceptions': []},\n",
    "    'biodiversity': {'weight': 3, 'contexts': ['biodiversity', 'ecological health', 'species conservation'], 'exceptions': []},\n",
    "    'pollution': {'weight': 3, 'contexts': ['air pollution', 'water pollution', 'pollution reduction'], 'exceptions': []},\n",
    "    'waste reduction': {'weight': 2, 'contexts': ['waste reduction', 'circular economy', 'reuse and recycling'], 'exceptions': []},\n",
    "    'health impacts': {'weight': 2, 'contexts': ['health impacts', 'public health', 'health and climate co-benefits'], 'exceptions': []},\n",
    "    'migration': {'weight': 2, 'contexts': ['rural-urban migration', 'migration and sustainability'], 'exceptions': []},\n",
    "    'social equity': {'weight': 3, 'contexts': ['social equity', 'inclusive growth', 'equitable access'], 'exceptions': []},\n",
    "    'sustainable agriculture': {'weight': 3, 'contexts': ['sustainable agriculture', 'food security', 'agricultural productivity'], 'exceptions': []},\n",
    "    'renewable infrastructure': {'weight': 3, 'contexts': ['Green','low-carbon infrastructure', 'renewable infrastructure', 'green buildings'], 'exceptions': []}\n",
    "}\n",
    "\n",
    "# Classification function\n",
    "def classify_paper(title, abstract):\n",
    "    score = 0\n",
    "    \n",
    "    # Helper function to calculate keyword score\n",
    "    def keyword_score(text, weight, contexts, exceptions):\n",
    "        if not isinstance(text, str):\n",
    "            return 0\n",
    "        for keyword in contexts:\n",
    "            if re.search(r'\\b' + re.escape(keyword) + r'\\b', text, re.IGNORECASE):\n",
    "                for exception in exceptions:\n",
    "                    if re.search(r'\\b' + re.escape(exception) + r'\\b', text, re.IGNORECASE):\n",
    "                        return 0\n",
    "                return weight\n",
    "        return 0\n",
    "    \n",
    "    # Score keywords in title and abstract\n",
    "    for keyword, info in keywords.items():\n",
    "        score += keyword_score(title, info['weight'] * 2, info['contexts'], info['exceptions'])\n",
    "        score += keyword_score(abstract, info['weight'], info['contexts'], info['exceptions'])\n",
    "    \n",
    "    # Classify based on score\n",
    "    if score >= 10:\n",
    "        return \"focus on the sustainability problem\"\n",
    "    elif 1 <= score < 10:\n",
    "        return \"might mention sustainability but not the main focus\"\n",
    "    else:\n",
    "        return \"not sustainability-related\"\n",
    "\n",
    "# Rename columns to match expected names\n",
    "data.rename(columns={'Title': 'title', 'Abstract': 'abstract'}, inplace=True)\n",
    "\n",
    "# Check if the necessary columns exist\n",
    "if 'title' in data.columns and 'abstract' in data.columns:\n",
    "    # Apply classification to the dataset\n",
    "    data['classification'] = data.apply(lambda x: classify_paper(x['title'], x['abstract']), axis=1)\n",
    "    # Save results\n",
    "    data.to_csv('classified_papers.csv', index=False)\n",
    "    print(\"Classification complete. Results saved to 'classified_papers.csv'\")\n",
    "else:\n",
    "    print(\"Error: The dataset does not contain the required 'title' and 'abstract' columns.\")\n"
   ]
  },
  {
   "cell_type": "code",
   "execution_count": 28,
   "id": "bda59bad",
   "metadata": {},
   "outputs": [
    {
     "data": {
      "text/plain": [
       "classification\n",
       "not sustainability-related                             239\n",
       "might mention sustainability but not the main focus     85\n",
       "focus on the sustainability problem                     13\n",
       "dtype: int64"
      ]
     },
     "execution_count": 28,
     "metadata": {},
     "output_type": "execute_result"
    }
   ],
   "source": [
    "data.value_counts('classification')"
   ]
  },
  {
   "cell_type": "code",
   "execution_count": 29,
   "id": "6dd02116",
   "metadata": {},
   "outputs": [],
   "source": [
    "test_data = [\n",
    "    {'Author': 'Alice Smith', 'title': 'sustainability Sustainable Forestry Practices', 'abstract': 'This paper discusses the impact of sustainable forestry on biodiversity and climate change.'},\n",
    "    {'Author': 'Bob Johnson', 'title': 'Mathematical Inequalities in Modern Analysis', 'abstract': 'The paper presents new approaches to solving mathematical inequalities.'},\n",
    "    {'Author': 'Carol Lee', 'title': 'Gender Equality and Economic Growth', 'abstract': 'This study explores the relationship between gender equality and economic growth, highlighting potential benefits.'},\n",
    "    {'Author': 'David Brown', 'title': 'Professional Growth Strategies', 'abstract': 'The paper provides insights into professional growth and career development.'},\n",
    "    {'Author': 'Eve White', 'title': 'Renewable Energy and Carbon Footprint Reduction', 'abstract': 'An analysis of how renewable energy sources contribute to reducing the carbon footprint and mitigating climate change.'}\n",
    "]\n",
    "test_data = pd.read_csv('research_list_last.csv')\n",
    "test_data.rename(columns={'Research Title':'title','Abstract':'abstract'},inplace=True)"
   ]
  },
  {
   "cell_type": "code",
   "execution_count": 42,
   "id": "30e9d611",
   "metadata": {},
   "outputs": [],
   "source": [
    "test_data['classification'] = test_data.apply(lambda x: classify_paper(x['title'], x['abstract']), axis=1)"
   ]
  },
  {
   "cell_type": "code",
   "execution_count": 43,
   "id": "d40a3324",
   "metadata": {},
   "outputs": [
    {
     "data": {
      "text/plain": [
       "classification\n",
       "might mention sustainability but not the main focus    2\n",
       "focus on the sustainability problem                    1\n",
       "not sustainability-related                             1\n",
       "dtype: int64"
      ]
     },
     "execution_count": 43,
     "metadata": {},
     "output_type": "execute_result"
    }
   ],
   "source": [
    "test_data.value_counts('classification')"
   ]
  },
  {
   "cell_type": "code",
   "execution_count": 37,
   "id": "aa45dee3",
   "metadata": {},
   "outputs": [],
   "source": [
    "test_data.dropna(subset=['abstract','title'],inplace=True)"
   ]
  },
  {
   "cell_type": "code",
   "execution_count": null,
   "id": "b5b6efda",
   "metadata": {},
   "outputs": [],
   "source": []
  }
 ],
 "metadata": {
  "kernelspec": {
   "display_name": "Python 3 (ipykernel)",
   "language": "python",
   "name": "python3"
  },
  "language_info": {
   "codemirror_mode": {
    "name": "ipython",
    "version": 3
   },
   "file_extension": ".py",
   "mimetype": "text/x-python",
   "name": "python",
   "nbconvert_exporter": "python",
   "pygments_lexer": "ipython3",
   "version": "3.9.7"
  }
 },
 "nbformat": 4,
 "nbformat_minor": 5
}
